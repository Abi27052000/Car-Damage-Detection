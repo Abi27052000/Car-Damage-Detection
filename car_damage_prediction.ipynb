{
 "cells": [
  {
   "cell_type": "code",
   "execution_count": 1,
   "id": "fd70877f",
   "metadata": {},
   "outputs": [],
   "source": [
    "import os\n",
    "from torchvision import datasets, transforms\n",
    "from torch.utils.data import DataLoader\n",
    "import torch\n",
    "import torch.nn as nn\n",
    "import torch.optim as optim\n",
    "import torch.nn.functional as F\n",
    "import time\n",
    "import torchvision.models as models\n",
    "from matplotlib import pyplot as plt"
   ]
  },
  {
   "cell_type": "code",
   "execution_count": 3,
   "id": "8b9faafe",
   "metadata": {},
   "outputs": [
    {
     "data": {
      "text/plain": [
       "device(type='cuda')"
      ]
     },
     "execution_count": 3,
     "metadata": {},
     "output_type": "execute_result"
    }
   ],
   "source": [
    "device = torch.device(\"cuda\" if torch.cuda.is_available() else \"cpu\")\n",
    "device"
   ]
  },
  {
   "cell_type": "markdown",
   "id": "6311b231",
   "metadata": {},
   "source": [
    "### Load Data "
   ]
  },
  {
   "cell_type": "code",
   "execution_count": 4,
   "id": "f5dacbb5",
   "metadata": {},
   "outputs": [],
   "source": [
    "image_transforms = transforms.Compose([\n",
    "    transforms.RandomHorizontalFlip(),\n",
    "    transforms.RandomRotation(10),\n",
    "    transforms.ColorJitter(brightness=0.2, contrast=0.2),\n",
    "    transforms.Resize((224, 224)),\n",
    "    transforms.ToTensor(),\n",
    "    transforms.Normalize(mean=[0.485, 0.456, 0.406], std=[0.229, 0.224, 0.225])\n",
    "])"
   ]
  },
  {
   "cell_type": "code",
   "execution_count": 5,
   "id": "a39853c5",
   "metadata": {},
   "outputs": [
    {
     "data": {
      "text/plain": [
       "2300"
      ]
     },
     "execution_count": 5,
     "metadata": {},
     "output_type": "execute_result"
    }
   ],
   "source": [
    "dataset_path = \"./dataset\"\n",
    "\n",
    "dataset = datasets.ImageFolder(root=dataset_path,transform=image_transforms)\n",
    "\n",
    "len(dataset)"
   ]
  },
  {
   "cell_type": "code",
   "execution_count": 6,
   "id": "7f632272",
   "metadata": {},
   "outputs": [
    {
     "data": {
      "text/plain": [
       "['F_Breakage', 'F_Crushed', 'F_Normal', 'R_Breakage', 'R_Crushed', 'R_Normal']"
      ]
     },
     "execution_count": 6,
     "metadata": {},
     "output_type": "execute_result"
    }
   ],
   "source": [
    "dataset.classes"
   ]
  },
  {
   "cell_type": "code",
   "execution_count": 7,
   "id": "de807096",
   "metadata": {},
   "outputs": [
    {
     "data": {
      "text/plain": [
       "6"
      ]
     },
     "execution_count": 7,
     "metadata": {},
     "output_type": "execute_result"
    }
   ],
   "source": [
    "num_classes = len(dataset.classes)\n",
    "num_classes"
   ]
  },
  {
   "cell_type": "code",
   "execution_count": 8,
   "id": "9cd99cc5",
   "metadata": {},
   "outputs": [
    {
     "data": {
      "text/plain": [
       "(1725, 575)"
      ]
     },
     "execution_count": 8,
     "metadata": {},
     "output_type": "execute_result"
    }
   ],
   "source": [
    "\n",
    "train_size = int(0.75*len(dataset))\n",
    "val_size = len(dataset) - train_size\n",
    "\n",
    "train_size,val_size"
   ]
  },
  {
   "cell_type": "code",
   "execution_count": 9,
   "id": "030cd842",
   "metadata": {},
   "outputs": [],
   "source": [
    "from torch.utils.data import random_split\n",
    "train_dataset, val_dataset = random_split(dataset, [train_size, val_size])"
   ]
  },
  {
   "cell_type": "code",
   "execution_count": 10,
   "id": "eba59fa5",
   "metadata": {},
   "outputs": [],
   "source": [
    "train_loader = DataLoader(train_dataset, batch_size=32, shuffle=True)\n",
    "val_loader = DataLoader(val_dataset, batch_size=32, shuffle=False)"
   ]
  },
  {
   "cell_type": "code",
   "execution_count": 11,
   "id": "4ff81b0c",
   "metadata": {},
   "outputs": [
    {
     "name": "stdout",
     "output_type": "stream",
     "text": [
      "torch.Size([32, 3, 224, 224]) torch.Size([32])\n"
     ]
    }
   ],
   "source": [
    "for images,labels in train_loader:\n",
    "    print(images.shape, labels.shape)\n",
    "    break"
   ]
  },
  {
   "cell_type": "code",
   "execution_count": 12,
   "id": "dd656dc4",
   "metadata": {},
   "outputs": [
    {
     "data": {
      "text/plain": [
       "(torch.Tensor,\n",
       " torch.Tensor,\n",
       " torch.Tensor,\n",
       " torch.Tensor,\n",
       " torch.utils.data.dataset.Subset,\n",
       " torch.utils.data.dataloader.DataLoader)"
      ]
     },
     "execution_count": 12,
     "metadata": {},
     "output_type": "execute_result"
    }
   ],
   "source": [
    "type(images), type(labels) , type(images[0]), type(labels[0]) , type(train_dataset), type(train_loader)"
   ]
  },
  {
   "cell_type": "code",
   "execution_count": 13,
   "id": "c1627e43",
   "metadata": {},
   "outputs": [
    {
     "data": {
      "text/plain": [
       "tensor([[[-2.1179, -2.1179, -2.1179,  ..., -2.1179, -2.1179, -2.1179],\n",
       "         [-2.1179, -2.1179, -2.1179,  ..., -2.1179, -2.1179, -2.1179],\n",
       "         [-2.1179, -2.1179, -2.1179,  ..., -2.1179, -2.1179, -2.1179],\n",
       "         ...,\n",
       "         [-2.1179, -2.1179, -2.1179,  ..., -2.1179, -2.1179, -2.1179],\n",
       "         [-2.1179, -2.1179, -2.1179,  ..., -2.1179, -2.1179, -2.1179],\n",
       "         [-2.1179, -2.1179, -2.1179,  ..., -2.1179, -2.1179, -2.1179]],\n",
       "\n",
       "        [[-2.0357, -2.0357, -2.0357,  ..., -2.0357, -2.0357, -2.0357],\n",
       "         [-2.0357, -2.0357, -2.0357,  ..., -2.0357, -2.0357, -2.0357],\n",
       "         [-2.0357, -2.0357, -2.0357,  ..., -2.0357, -2.0357, -2.0357],\n",
       "         ...,\n",
       "         [-2.0357, -2.0357, -2.0357,  ..., -2.0357, -2.0357, -2.0357],\n",
       "         [-2.0357, -2.0357, -2.0357,  ..., -2.0357, -2.0357, -2.0357],\n",
       "         [-2.0357, -2.0357, -2.0357,  ..., -2.0357, -2.0357, -2.0357]],\n",
       "\n",
       "        [[-1.8044, -1.8044, -1.8044,  ..., -1.8044, -1.8044, -1.8044],\n",
       "         [-1.8044, -1.8044, -1.8044,  ..., -1.8044, -1.8044, -1.8044],\n",
       "         [-1.8044, -1.8044, -1.8044,  ..., -1.8044, -1.8044, -1.8044],\n",
       "         ...,\n",
       "         [-1.8044, -1.8044, -1.8044,  ..., -1.8044, -1.8044, -1.8044],\n",
       "         [-1.8044, -1.8044, -1.8044,  ..., -1.8044, -1.8044, -1.8044],\n",
       "         [-1.8044, -1.8044, -1.8044,  ..., -1.8044, -1.8044, -1.8044]]])"
      ]
     },
     "execution_count": 13,
     "metadata": {},
     "output_type": "execute_result"
    }
   ],
   "source": [
    "images[0]"
   ]
  },
  {
   "cell_type": "code",
   "execution_count": 14,
   "id": "07a19743",
   "metadata": {},
   "outputs": [
    {
     "data": {
      "text/plain": [
       "tensor(3)"
      ]
     },
     "execution_count": 14,
     "metadata": {},
     "output_type": "execute_result"
    }
   ],
   "source": [
    "labels[0]"
   ]
  },
  {
   "cell_type": "code",
   "execution_count": 15,
   "id": "3e0f6aef",
   "metadata": {},
   "outputs": [
    {
     "data": {
      "text/plain": [
       "torch.Size([3, 224, 224])"
      ]
     },
     "execution_count": 15,
     "metadata": {},
     "output_type": "execute_result"
    }
   ],
   "source": [
    "images[0].shape"
   ]
  },
  {
   "cell_type": "code",
   "execution_count": 16,
   "id": "4dd72d01",
   "metadata": {},
   "outputs": [
    {
     "data": {
      "text/plain": [
       "torch.Size([224, 224, 3])"
      ]
     },
     "execution_count": 16,
     "metadata": {},
     "output_type": "execute_result"
    }
   ],
   "source": [
    "images[0].permute(1, 2, 0).shape"
   ]
  },
  {
   "cell_type": "code",
   "execution_count": 17,
   "id": "0f90f719",
   "metadata": {},
   "outputs": [
    {
     "name": "stderr",
     "output_type": "stream",
     "text": [
      "Clipping input data to the valid range for imshow with RGB data ([0..1] for floats or [0..255] for integers). Got range [-2.117904..2.5005665].\n"
     ]
    },
    {
     "data": {
      "image/png": "[encoded data removed]",
      "text/plain": [
       "<Figure size 640x480 with 1 Axes>"
      ]
     },
     "metadata": {},
     "output_type": "display_data"
    }
   ],
   "source": [
    "plt.imshow(images[0].permute(1, 2, 0))\n",
    "\n",
    "\n",
    "plt.show()"
   ]
  },
  {
   "cell_type": "markdown",
   "id": "c1e1eb8f",
   "metadata": {},
   "source": [
    "## Model 1: CNN"
   ]
  },
  {
   "cell_type": "code",
   "execution_count": 18,
   "id": "73eaed36",
   "metadata": {},
   "outputs": [],
   "source": [
    "class CarClassifierCNN(nn.Module):\n",
    "    def __init__(self, num_classes):\n",
    "        super().__init__()\n",
    "        self.network = nn.Sequential(\n",
    "            nn.Conv2d(in_channels=3, out_channels=16, kernel_size=3, stride=1, padding=1), # (16, 224, 224) \n",
    "            nn.ReLU(),\n",
    "            nn.MaxPool2d(kernel_size=2, stride=2, padding=0), # (16, 112, 112),\n",
    "            nn.Conv2d(in_channels=16, out_channels=32, kernel_size=3, stride=1, padding=1), \n",
    "            nn.ReLU(),\n",
    "            nn.MaxPool2d(kernel_size=2, stride=2, padding=0), # (32, 56, 56)           \n",
    "            nn.Conv2d(in_channels=32, out_channels=64, kernel_size=3, stride=1, padding=1), \n",
    "            nn.ReLU(),\n",
    "            nn.MaxPool2d(kernel_size=2, stride=2, padding=0), # (64, 28, 28),\n",
    "            nn.Flatten(),\n",
    "            nn.Linear(64*28*28, 512),\n",
    "            nn.ReLU(),\n",
    "            nn.Linear(512, num_classes)\n",
    "        )\n",
    "        \n",
    "    def forward(self, x):\n",
    "        x = self.network(x)\n",
    "        return x"
   ]
  },
  {
   "cell_type": "code",
   "execution_count": 19,
   "id": "20fcf5dc",
   "metadata": {},
   "outputs": [
    {
     "data": {
      "text/plain": [
       "32"
      ]
     },
     "execution_count": 19,
     "metadata": {},
     "output_type": "execute_result"
    }
   ],
   "source": [
    "images.size(0)"
   ]
  },
  {
   "cell_type": "code",
   "execution_count": 20,
   "id": "e2a655dc",
   "metadata": {},
   "outputs": [
    {
     "data": {
      "text/plain": [
       "1725"
      ]
     },
     "execution_count": 20,
     "metadata": {},
     "output_type": "execute_result"
    }
   ],
   "source": [
    "len(train_loader.dataset)"
   ]
  },
  {
   "cell_type": "code",
   "execution_count": 21,
   "id": "e5a10f4e",
   "metadata": {},
   "outputs": [],
   "source": [
    "def train_model(model, criterion, optimizer, epochs=5):\n",
    "    start = time.time()\n",
    "    \n",
    "    for epoch in range(epochs):\n",
    "        model.train()\n",
    "        running_loss = 0.0\n",
    "        for batch_num, (images, labels) in enumerate(train_loader):\n",
    "            images, labels = images.to(device), labels.to(device)\n",
    "            \n",
    "            # Zero the parameter gradients\n",
    "            optimizer.zero_grad()\n",
    "            \n",
    "            # Forward pass\n",
    "            outputs = model(images)\n",
    "            loss = criterion(outputs, labels)\n",
    "            \n",
    "            # Backward pass and optimization\n",
    "            loss.backward()\n",
    "            optimizer.step()\n",
    "            \n",
    "            if (batch_num+1) % 10 == 0:\n",
    "                print(f\"Batch: {batch_num+1}, Epoch: {epoch+1}, Loss: {loss.item():0.2f}\")\n",
    "            \n",
    "            running_loss += loss.item() * images.size(0)\n",
    "            \n",
    "        epoch_loss = running_loss / len(train_loader.dataset)\n",
    "        print(f\"Epoch [{epoch+1}/{epochs}], Avg Loss: {epoch_loss:.4f}\")\n",
    "\n",
    "        # Validation\n",
    "        model.eval()\n",
    "        correct = 0\n",
    "        total = 0\n",
    "        all_labels = []\n",
    "        all_predictions = []\n",
    "        \n",
    "        with torch.no_grad():\n",
    "            for images, labels in val_loader:\n",
    "                images, labels = images.to(device), labels.to(device)\n",
    "                outputs = model(images)\n",
    "                _, predicted = torch.max(outputs.data,1)\n",
    "                total += labels.size(0)\n",
    "                correct += (predicted == labels).sum().item()\n",
    "                all_labels.extend(labels.cpu().numpy())\n",
    "                all_predictions.extend(predicted.cpu().numpy())\n",
    "                \n",
    "            print(f\"*** Validation Accuracy: {100 * correct / total:.2f}% ***\")\n",
    "            \n",
    "    end = time.time()\n",
    "    print(f\"Execution time: {end - start} seconds\")     \n",
    "    \n",
    "    return all_labels, all_predictions"
   ]
  },
  {
   "cell_type": "code",
   "execution_count": 22,
   "id": "5ee09a6c",
   "metadata": {},
   "outputs": [
    {
     "data": {
      "text/plain": [
       "(tensor([15]), tensor([2]))"
      ]
     },
     "execution_count": 22,
     "metadata": {},
     "output_type": "execute_result"
    }
   ],
   "source": [
    "values, indices = torch.max(torch.tensor([[10,12,15,9,2]]),1)\n",
    "values, indices"
   ]
  },
  {
   "cell_type": "code",
   "execution_count": 23,
   "id": "c3637a87",
   "metadata": {},
   "outputs": [
    {
     "name": "stdout",
     "output_type": "stream",
     "text": [
      "Batch: 10, Epoch: 1, Loss: 1.79\n",
      "Batch: 20, Epoch: 1, Loss: 1.76\n",
      "Batch: 30, Epoch: 1, Loss: 1.75\n",
      "Batch: 40, Epoch: 1, Loss: 1.56\n",
      "Batch: 50, Epoch: 1, Loss: 1.39\n",
      "Epoch [1/10], Avg Loss: 1.7740\n",
      "*** Validation Accuracy: 48.17% ***\n",
      "Batch: 10, Epoch: 2, Loss: 1.35\n",
      "Batch: 20, Epoch: 2, Loss: 0.97\n",
      "Batch: 30, Epoch: 2, Loss: 1.16\n",
      "Batch: 40, Epoch: 2, Loss: 1.01\n",
      "Batch: 50, Epoch: 2, Loss: 1.07\n",
      "Epoch [2/10], Avg Loss: 1.2358\n",
      "*** Validation Accuracy: 47.48% ***\n",
      "Batch: 10, Epoch: 3, Loss: 1.32\n",
      "Batch: 20, Epoch: 3, Loss: 1.16\n",
      "Batch: 30, Epoch: 3, Loss: 1.03\n",
      "Batch: 40, Epoch: 3, Loss: 0.99\n",
      "Batch: 50, Epoch: 3, Loss: 1.14\n",
      "Epoch [3/10], Avg Loss: 1.1050\n",
      "*** Validation Accuracy: 52.52% ***\n",
      "Batch: 10, Epoch: 4, Loss: 0.91\n",
      "Batch: 20, Epoch: 4, Loss: 0.89\n",
      "Batch: 30, Epoch: 4, Loss: 1.06\n",
      "Batch: 40, Epoch: 4, Loss: 1.08\n",
      "Batch: 50, Epoch: 4, Loss: 1.11\n",
      "Epoch [4/10], Avg Loss: 1.0079\n",
      "*** Validation Accuracy: 52.87% ***\n",
      "Batch: 10, Epoch: 5, Loss: 0.65\n",
      "Batch: 20, Epoch: 5, Loss: 0.87\n",
      "Batch: 30, Epoch: 5, Loss: 0.90\n",
      "Batch: 40, Epoch: 5, Loss: 1.08\n",
      "Batch: 50, Epoch: 5, Loss: 0.75\n",
      "Epoch [5/10], Avg Loss: 0.9142\n",
      "*** Validation Accuracy: 53.04% ***\n",
      "Batch: 10, Epoch: 6, Loss: 0.98\n",
      "Batch: 20, Epoch: 6, Loss: 0.99\n",
      "Batch: 30, Epoch: 6, Loss: 0.69\n",
      "Batch: 40, Epoch: 6, Loss: 0.77\n",
      "Batch: 50, Epoch: 6, Loss: 1.27\n",
      "Epoch [6/10], Avg Loss: 0.8739\n",
      "*** Validation Accuracy: 59.13% ***\n",
      "Batch: 10, Epoch: 7, Loss: 0.70\n",
      "Batch: 20, Epoch: 7, Loss: 0.82\n",
      "Batch: 30, Epoch: 7, Loss: 0.61\n",
      "Batch: 40, Epoch: 7, Loss: 0.84\n",
      "Batch: 50, Epoch: 7, Loss: 1.05\n",
      "Epoch [7/10], Avg Loss: 0.8046\n",
      "*** Validation Accuracy: 55.30% ***\n",
      "Batch: 10, Epoch: 8, Loss: 0.62\n",
      "Batch: 20, Epoch: 8, Loss: 0.94\n",
      "Batch: 30, Epoch: 8, Loss: 0.73\n",
      "Batch: 40, Epoch: 8, Loss: 0.78\n",
      "Batch: 50, Epoch: 8, Loss: 0.69\n",
      "Epoch [8/10], Avg Loss: 0.7604\n",
      "*** Validation Accuracy: 58.09% ***\n",
      "Batch: 10, Epoch: 9, Loss: 0.73\n",
      "Batch: 20, Epoch: 9, Loss: 0.61\n",
      "Batch: 30, Epoch: 9, Loss: 0.69\n",
      "Batch: 40, Epoch: 9, Loss: 0.40\n",
      "Batch: 50, Epoch: 9, Loss: 0.50\n",
      "Epoch [9/10], Avg Loss: 0.6972\n",
      "*** Validation Accuracy: 58.09% ***\n",
      "Batch: 10, Epoch: 10, Loss: 0.68\n",
      "Batch: 20, Epoch: 10, Loss: 0.87\n",
      "Batch: 30, Epoch: 10, Loss: 0.81\n",
      "Batch: 40, Epoch: 10, Loss: 0.54\n",
      "Batch: 50, Epoch: 10, Loss: 0.47\n",
      "Epoch [10/10], Avg Loss: 0.6421\n",
      "*** Validation Accuracy: 58.26% ***\n",
      "Execution time: 958.0332956314087 seconds\n"
     ]
    }
   ],
   "source": [
    "# Instantiate the model, loss function, and optimizer\n",
    "model = CarClassifierCNN(num_classes=num_classes).to(device)\n",
    "criterion = nn.CrossEntropyLoss()\n",
    "optimizer = optim.Adam(model.parameters(), lr=0.001)\n",
    "\n",
    "all_labels, all_predictions = train_model(model, criterion, optimizer, epochs=10)"
   ]
  },
  {
   "cell_type": "markdown",
   "id": "ac7a7100",
   "metadata": {},
   "source": [
    "## Model 2: CNN with Regularization"
   ]
  },
  {
   "cell_type": "code",
   "execution_count": 24,
   "id": "b194dfc6",
   "metadata": {},
   "outputs": [],
   "source": [
    "class CarClassifierCNNWithRegularization(nn.Module):\n",
    "    def __init__(self, num_classes):\n",
    "        super().__init__()\n",
    "        self.network = nn.Sequential(\n",
    "            nn.Conv2d(in_channels=3, out_channels=16, kernel_size=3, stride=1, padding=1), # (16, 224, 224) \n",
    "            nn.BatchNorm2d(16),\n",
    "            nn.ReLU(),\n",
    "            nn.MaxPool2d(kernel_size=2, stride=2, padding=0), # (16, 112, 112),\n",
    "            nn.Conv2d(in_channels=16, out_channels=32, kernel_size=3, stride=1, padding=1), \n",
    "            nn.BatchNorm2d(32),\n",
    "            nn.ReLU(),\n",
    "            nn.MaxPool2d(kernel_size=2, stride=2, padding=0), # (32, 56, 56)           \n",
    "            nn.Conv2d(in_channels=32, out_channels=64, kernel_size=3, stride=1, padding=1), \n",
    "            nn.BatchNorm2d(64),\n",
    "            nn.ReLU(),\n",
    "            nn.MaxPool2d(kernel_size=2, stride=2, padding=0), # (64, 28, 28),\n",
    "            nn.Flatten(),\n",
    "            nn.Linear(64*28*28, 512),\n",
    "            nn.ReLU(),\n",
    "            nn.Dropout(0.5),\n",
    "            nn.Linear(512, num_classes)\n",
    "        )\n",
    "        \n",
    "    def forward(self, x):\n",
    "        x = self.network(x)\n",
    "        return x"
   ]
  },
  {
   "cell_type": "code",
   "execution_count": 25,
   "id": "105547b8",
   "metadata": {},
   "outputs": [
    {
     "name": "stdout",
     "output_type": "stream",
     "text": [
      "Batch: 10, Epoch: 1, Loss: 16.84\n",
      "Batch: 20, Epoch: 1, Loss: 5.12\n",
      "Batch: 30, Epoch: 1, Loss: 4.03\n",
      "Batch: 40, Epoch: 1, Loss: 1.76\n",
      "Batch: 50, Epoch: 1, Loss: 1.21\n",
      "Epoch [1/10], Avg Loss: 6.7910\n",
      "*** Validation Accuracy: 44.87% ***\n",
      "Batch: 10, Epoch: 2, Loss: 1.25\n",
      "Batch: 20, Epoch: 2, Loss: 1.31\n",
      "Batch: 30, Epoch: 2, Loss: 1.19\n",
      "Batch: 40, Epoch: 2, Loss: 1.43\n",
      "Batch: 50, Epoch: 2, Loss: 1.09\n",
      "Epoch [2/10], Avg Loss: 1.3029\n",
      "*** Validation Accuracy: 47.48% ***\n",
      "Batch: 10, Epoch: 3, Loss: 1.20\n",
      "Batch: 20, Epoch: 3, Loss: 1.13\n",
      "Batch: 30, Epoch: 3, Loss: 1.21\n",
      "Batch: 40, Epoch: 3, Loss: 1.22\n",
      "Batch: 50, Epoch: 3, Loss: 1.15\n",
      "Epoch [3/10], Avg Loss: 1.1928\n",
      "*** Validation Accuracy: 50.26% ***\n",
      "Batch: 10, Epoch: 4, Loss: 1.18\n",
      "Batch: 20, Epoch: 4, Loss: 1.16\n",
      "Batch: 30, Epoch: 4, Loss: 1.04\n",
      "Batch: 40, Epoch: 4, Loss: 1.19\n",
      "Batch: 50, Epoch: 4, Loss: 1.21\n",
      "Epoch [4/10], Avg Loss: 1.1169\n",
      "*** Validation Accuracy: 47.48% ***\n",
      "Batch: 10, Epoch: 5, Loss: 1.08\n",
      "Batch: 20, Epoch: 5, Loss: 1.01\n",
      "Batch: 30, Epoch: 5, Loss: 1.19\n",
      "Batch: 40, Epoch: 5, Loss: 1.23\n",
      "Batch: 50, Epoch: 5, Loss: 0.94\n",
      "Epoch [5/10], Avg Loss: 1.1086\n",
      "*** Validation Accuracy: 52.35% ***\n",
      "Batch: 10, Epoch: 6, Loss: 1.03\n",
      "Batch: 20, Epoch: 6, Loss: 1.03\n",
      "Batch: 30, Epoch: 6, Loss: 1.00\n",
      "Batch: 40, Epoch: 6, Loss: 1.18\n",
      "Batch: 50, Epoch: 6, Loss: 0.86\n",
      "Epoch [6/10], Avg Loss: 1.0748\n",
      "*** Validation Accuracy: 50.78% ***\n",
      "Batch: 10, Epoch: 7, Loss: 1.03\n",
      "Batch: 20, Epoch: 7, Loss: 0.83\n",
      "Batch: 30, Epoch: 7, Loss: 0.59\n",
      "Batch: 40, Epoch: 7, Loss: 0.98\n",
      "Batch: 50, Epoch: 7, Loss: 1.27\n",
      "Epoch [7/10], Avg Loss: 1.0830\n",
      "*** Validation Accuracy: 49.91% ***\n",
      "Batch: 10, Epoch: 8, Loss: 1.10\n",
      "Batch: 20, Epoch: 8, Loss: 1.34\n",
      "Batch: 30, Epoch: 8, Loss: 1.09\n",
      "Batch: 40, Epoch: 8, Loss: 1.00\n",
      "Batch: 50, Epoch: 8, Loss: 0.91\n",
      "Epoch [8/10], Avg Loss: 1.0450\n",
      "*** Validation Accuracy: 54.61% ***\n",
      "Batch: 10, Epoch: 9, Loss: 1.33\n",
      "Batch: 20, Epoch: 9, Loss: 1.17\n",
      "Batch: 30, Epoch: 9, Loss: 1.05\n",
      "Batch: 40, Epoch: 9, Loss: 1.03\n",
      "Batch: 50, Epoch: 9, Loss: 1.02\n",
      "Epoch [9/10], Avg Loss: 1.0111\n",
      "*** Validation Accuracy: 54.61% ***\n",
      "Batch: 10, Epoch: 10, Loss: 1.32\n",
      "Batch: 20, Epoch: 10, Loss: 0.99\n",
      "Batch: 30, Epoch: 10, Loss: 1.02\n",
      "Batch: 40, Epoch: 10, Loss: 1.06\n",
      "Batch: 50, Epoch: 10, Loss: 0.91\n",
      "Epoch [10/10], Avg Loss: 1.0047\n",
      "*** Validation Accuracy: 53.22% ***\n",
      "Execution time: 1130.925748348236 seconds\n"
     ]
    }
   ],
   "source": [
    "model = CarClassifierCNNWithRegularization(num_classes=num_classes).to(device)\n",
    "criterion = nn.CrossEntropyLoss()\n",
    "optimizer = optim.Adam(model.parameters(), lr=0.001, weight_decay=1e-4)\n",
    "\n",
    "all_labels, all_predictions = train_model(model, criterion, optimizer,  epochs=10)"
   ]
  },
  {
   "cell_type": "markdown",
   "id": "389cae2b",
   "metadata": {},
   "source": [
    "### Model 3: Transfer Learning with EfficientNet"
   ]
  },
  {
   "cell_type": "code",
   "execution_count": 26,
   "id": "686799d8",
   "metadata": {},
   "outputs": [
    {
     "name": "stdout",
     "output_type": "stream",
     "text": [
      "Downloading: \"https://download.pytorch.org/models/efficientnet_b0_rwightman-7f5810bc.pth\" to C:\\Users\\ADMIN/.cache\\torch\\hub\\checkpoints\\efficientnet_b0_rwightman-7f5810bc.pth\n"
     ]
    },
    {
     "name": "stderr",
     "output_type": "stream",
     "text": [
      "100%|██████████| 20.5M/20.5M [00:04<00:00, 4.75MB/s]\n"
     ]
    },
    {
     "data": {
      "text/plain": [
       "1280"
      ]
     },
     "execution_count": 26,
     "metadata": {},
     "output_type": "execute_result"
    }
   ],
   "source": [
    "model = models.efficientnet_b0(weights='DEFAULT')\n",
    "model.classifier[1].in_features"
   ]
  },
  {
   "cell_type": "code",
   "execution_count": 27,
   "id": "99be4b08",
   "metadata": {},
   "outputs": [],
   "source": [
    "class CarClassifierEfficientNet(nn.Module):\n",
    "    def __init__(self, num_classes):\n",
    "        super().__init__()\n",
    "        self.model = models.efficientnet_b0(weights='DEFAULT')\n",
    "        \n",
    "        for param in self.model.parameters():\n",
    "            param.requires_grad = False\n",
    "        \n",
    "        in_features = self.model.classifier[1].in_features\n",
    "        \n",
    "        self.model.classifier = nn.Sequential(\n",
    "            nn.Dropout(0.5),\n",
    "            nn.Linear(in_features, num_classes)\n",
    "        )\n",
    "        \n",
    "    def forward(self, x):\n",
    "        x = self.model(x)\n",
    "        return x              "
   ]
  },
  {
   "cell_type": "code",
   "execution_count": 28,
   "id": "40da4aca",
   "metadata": {},
   "outputs": [
    {
     "name": "stdout",
     "output_type": "stream",
     "text": [
      "Batch: 10, Epoch: 1, Loss: 1.72\n",
      "Batch: 20, Epoch: 1, Loss: 1.46\n",
      "Batch: 30, Epoch: 1, Loss: 1.38\n",
      "Batch: 40, Epoch: 1, Loss: 1.32\n",
      "Batch: 50, Epoch: 1, Loss: 1.21\n",
      "Epoch [1/10], Avg Loss: 1.4798\n",
      "*** Validation Accuracy: 59.65% ***\n",
      "Batch: 10, Epoch: 2, Loss: 1.14\n",
      "Batch: 20, Epoch: 2, Loss: 1.07\n",
      "Batch: 30, Epoch: 2, Loss: 1.27\n",
      "Batch: 40, Epoch: 2, Loss: 1.09\n",
      "Batch: 50, Epoch: 2, Loss: 1.02\n",
      "Epoch [2/10], Avg Loss: 1.1307\n",
      "*** Validation Accuracy: 61.91% ***\n",
      "Batch: 10, Epoch: 3, Loss: 0.86\n",
      "Batch: 20, Epoch: 3, Loss: 1.08\n",
      "Batch: 30, Epoch: 3, Loss: 0.97\n",
      "Batch: 40, Epoch: 3, Loss: 1.16\n",
      "Batch: 50, Epoch: 3, Loss: 0.94\n",
      "Epoch [3/10], Avg Loss: 1.0168\n",
      "*** Validation Accuracy: 60.70% ***\n",
      "Batch: 10, Epoch: 4, Loss: 1.12\n",
      "Batch: 20, Epoch: 4, Loss: 0.97\n",
      "Batch: 30, Epoch: 4, Loss: 1.18\n",
      "Batch: 40, Epoch: 4, Loss: 0.98\n",
      "Batch: 50, Epoch: 4, Loss: 1.09\n",
      "Epoch [4/10], Avg Loss: 0.9532\n",
      "*** Validation Accuracy: 64.35% ***\n",
      "Batch: 10, Epoch: 5, Loss: 0.88\n",
      "Batch: 20, Epoch: 5, Loss: 0.97\n",
      "Batch: 30, Epoch: 5, Loss: 1.03\n",
      "Batch: 40, Epoch: 5, Loss: 0.78\n",
      "Batch: 50, Epoch: 5, Loss: 1.02\n",
      "Epoch [5/10], Avg Loss: 0.9005\n",
      "*** Validation Accuracy: 67.30% ***\n",
      "Batch: 10, Epoch: 6, Loss: 0.89\n",
      "Batch: 20, Epoch: 6, Loss: 0.82\n",
      "Batch: 30, Epoch: 6, Loss: 0.73\n",
      "Batch: 40, Epoch: 6, Loss: 1.20\n",
      "Batch: 50, Epoch: 6, Loss: 0.81\n",
      "Epoch [6/10], Avg Loss: 0.8737\n",
      "*** Validation Accuracy: 66.43% ***\n",
      "Batch: 10, Epoch: 7, Loss: 0.97\n",
      "Batch: 20, Epoch: 7, Loss: 1.05\n",
      "Batch: 30, Epoch: 7, Loss: 0.94\n",
      "Batch: 40, Epoch: 7, Loss: 0.84\n",
      "Batch: 50, Epoch: 7, Loss: 0.93\n",
      "Epoch [7/10], Avg Loss: 0.8649\n",
      "*** Validation Accuracy: 67.83% ***\n",
      "Batch: 10, Epoch: 8, Loss: 0.70\n",
      "Batch: 20, Epoch: 8, Loss: 0.79\n",
      "Batch: 30, Epoch: 8, Loss: 0.78\n",
      "Batch: 40, Epoch: 8, Loss: 1.12\n",
      "Batch: 50, Epoch: 8, Loss: 0.63\n",
      "Epoch [8/10], Avg Loss: 0.8386\n",
      "*** Validation Accuracy: 68.70% ***\n",
      "Batch: 10, Epoch: 9, Loss: 0.84\n",
      "Batch: 20, Epoch: 9, Loss: 0.68\n",
      "Batch: 30, Epoch: 9, Loss: 0.88\n",
      "Batch: 40, Epoch: 9, Loss: 0.78\n",
      "Batch: 50, Epoch: 9, Loss: 0.68\n",
      "Epoch [9/10], Avg Loss: 0.7957\n",
      "*** Validation Accuracy: 68.70% ***\n",
      "Batch: 10, Epoch: 10, Loss: 0.96\n",
      "Batch: 20, Epoch: 10, Loss: 0.90\n",
      "Batch: 30, Epoch: 10, Loss: 0.70\n",
      "Batch: 40, Epoch: 10, Loss: 0.79\n",
      "Batch: 50, Epoch: 10, Loss: 0.94\n",
      "Epoch [10/10], Avg Loss: 0.8197\n",
      "*** Validation Accuracy: 68.52% ***\n",
      "Execution time: 1037.8015117645264 seconds\n"
     ]
    }
   ],
   "source": [
    "model = CarClassifierEfficientNet(num_classes=num_classes).to(device)\n",
    "criterion = nn.CrossEntropyLoss()\n",
    "optimizer = optim.Adam(filter(lambda p: p.requires_grad, model.parameters()), lr=0.001)\n",
    "\n",
    "all_labels, all_predictions = train_model(model, criterion, optimizer, epochs=10)"
   ]
  },
  {
   "cell_type": "markdown",
   "id": "8a7682a5",
   "metadata": {},
   "source": [
    "### Model 4: Transfer Learning with ResNet"
   ]
  },
  {
   "cell_type": "code",
   "execution_count": 29,
   "id": "5730ddca",
   "metadata": {},
   "outputs": [],
   "source": [
    "# Load the pre-trained ResNet model\n",
    "class CarClassifierResNet(nn.Module):\n",
    "    def __init__(self, num_classes, dropout_rate=0.5):\n",
    "        super().__init__()\n",
    "        self.model = models.resnet50(weights='DEFAULT')\n",
    "        # Freeze all layers except the final fully connected layer\n",
    "        for param in self.model.parameters():\n",
    "            param.requires_grad = False\n",
    "            \n",
    "        # Unfreeze layer4 and fc layers\n",
    "        for param in self.model.layer4.parameters():\n",
    "            param.requires_grad = True            \n",
    "            \n",
    "        # Replace the final fully connected layer\n",
    "        self.model.fc = nn.Sequential(\n",
    "            nn.Dropout(dropout_rate),\n",
    "            nn.Linear(self.model.fc.in_features, num_classes)\n",
    "        )\n",
    "\n",
    "    def forward(self, x):\n",
    "        x = self.model(x)\n",
    "        return x"
   ]
  },
  {
   "cell_type": "code",
   "execution_count": 30,
   "id": "baf4f766",
   "metadata": {},
   "outputs": [
    {
     "name": "stdout",
     "output_type": "stream",
     "text": [
      "Downloading: \"https://download.pytorch.org/models/resnet50-11ad3fa6.pth\" to C:\\Users\\ADMIN/.cache\\torch\\hub\\checkpoints\\resnet50-11ad3fa6.pth\n"
     ]
    },
    {
     "name": "stderr",
     "output_type": "stream",
     "text": [
      "100%|██████████| 97.8M/97.8M [00:22<00:00, 4.59MB/s]\n"
     ]
    },
    {
     "name": "stdout",
     "output_type": "stream",
     "text": [
      "Batch: 10, Epoch: 1, Loss: 1.00\n",
      "Batch: 20, Epoch: 1, Loss: 0.69\n",
      "Batch: 30, Epoch: 1, Loss: 0.41\n",
      "Batch: 40, Epoch: 1, Loss: 0.61\n",
      "Batch: 50, Epoch: 1, Loss: 1.02\n",
      "Epoch [1/10], Avg Loss: 0.8602\n",
      "*** Validation Accuracy: 73.22% ***\n",
      "Batch: 10, Epoch: 2, Loss: 0.48\n",
      "Batch: 20, Epoch: 2, Loss: 0.51\n",
      "Batch: 30, Epoch: 2, Loss: 0.45\n",
      "Batch: 40, Epoch: 2, Loss: 0.39\n",
      "Batch: 50, Epoch: 2, Loss: 0.20\n",
      "Epoch [2/10], Avg Loss: 0.4700\n",
      "*** Validation Accuracy: 80.35% ***\n",
      "Batch: 10, Epoch: 3, Loss: 0.46\n",
      "Batch: 20, Epoch: 3, Loss: 0.19\n",
      "Batch: 30, Epoch: 3, Loss: 0.25\n",
      "Batch: 40, Epoch: 3, Loss: 0.33\n",
      "Batch: 50, Epoch: 3, Loss: 0.43\n",
      "Epoch [3/10], Avg Loss: 0.3515\n",
      "*** Validation Accuracy: 75.83% ***\n",
      "Batch: 10, Epoch: 4, Loss: 0.23\n",
      "Batch: 20, Epoch: 4, Loss: 0.19\n",
      "Batch: 30, Epoch: 4, Loss: 0.22\n",
      "Batch: 40, Epoch: 4, Loss: 0.34\n",
      "Batch: 50, Epoch: 4, Loss: 0.41\n",
      "Epoch [4/10], Avg Loss: 0.2692\n",
      "*** Validation Accuracy: 80.52% ***\n",
      "Batch: 10, Epoch: 5, Loss: 0.15\n",
      "Batch: 20, Epoch: 5, Loss: 0.18\n",
      "Batch: 30, Epoch: 5, Loss: 0.07\n",
      "Batch: 40, Epoch: 5, Loss: 0.07\n",
      "Batch: 50, Epoch: 5, Loss: 0.09\n",
      "Epoch [5/10], Avg Loss: 0.1819\n",
      "*** Validation Accuracy: 76.87% ***\n",
      "Batch: 10, Epoch: 6, Loss: 0.12\n",
      "Batch: 20, Epoch: 6, Loss: 0.04\n",
      "Batch: 30, Epoch: 6, Loss: 0.06\n",
      "Batch: 40, Epoch: 6, Loss: 0.21\n",
      "Batch: 50, Epoch: 6, Loss: 0.13\n",
      "Epoch [6/10], Avg Loss: 0.1494\n",
      "*** Validation Accuracy: 75.48% ***\n",
      "Batch: 10, Epoch: 7, Loss: 0.03\n",
      "Batch: 20, Epoch: 7, Loss: 0.13\n",
      "Batch: 30, Epoch: 7, Loss: 0.23\n",
      "Batch: 40, Epoch: 7, Loss: 0.17\n",
      "Batch: 50, Epoch: 7, Loss: 0.16\n",
      "Epoch [7/10], Avg Loss: 0.1834\n",
      "*** Validation Accuracy: 79.13% ***\n",
      "Batch: 10, Epoch: 8, Loss: 0.29\n",
      "Batch: 20, Epoch: 8, Loss: 0.07\n",
      "Batch: 30, Epoch: 8, Loss: 0.13\n",
      "Batch: 40, Epoch: 8, Loss: 0.12\n",
      "Batch: 50, Epoch: 8, Loss: 0.03\n",
      "Epoch [8/10], Avg Loss: 0.1253\n",
      "*** Validation Accuracy: 78.96% ***\n",
      "Batch: 10, Epoch: 9, Loss: 0.02\n",
      "Batch: 20, Epoch: 9, Loss: 0.12\n",
      "Batch: 30, Epoch: 9, Loss: 0.21\n",
      "Batch: 40, Epoch: 9, Loss: 0.03\n",
      "Batch: 50, Epoch: 9, Loss: 0.06\n",
      "Epoch [9/10], Avg Loss: 0.1114\n",
      "*** Validation Accuracy: 78.26% ***\n",
      "Batch: 10, Epoch: 10, Loss: 0.01\n",
      "Batch: 20, Epoch: 10, Loss: 0.11\n",
      "Batch: 30, Epoch: 10, Loss: 0.04\n",
      "Batch: 40, Epoch: 10, Loss: 0.19\n",
      "Batch: 50, Epoch: 10, Loss: 0.03\n",
      "Epoch [10/10], Avg Loss: 0.0856\n",
      "*** Validation Accuracy: 81.74% ***\n",
      "Execution time: 607.8730669021606 seconds\n"
     ]
    }
   ],
   "source": [
    "model = CarClassifierResNet(num_classes=num_classes).to(device)\n",
    "criterion = nn.CrossEntropyLoss()\n",
    "optimizer = optim.Adam(filter(lambda p: p.requires_grad, model.parameters()), lr=0.001)\n",
    "\n",
    "labels, predictions = train_model(model, criterion, optimizer, epochs=10)"
   ]
  }
 ],
 "metadata": {
  "kernelspec": {
   "display_name": "deeplearningPyTorch",
   "language": "python",
   "name": "python3"
  },
  "language_info": {
   "codemirror_mode": {
    "name": "ipython",
    "version": 3
   },
   "file_extension": ".py",
   "mimetype": "text/x-python",
   "name": "python",
   "nbconvert_exporter": "python",
   "pygments_lexer": "ipython3",
   "version": "3.11.13"
  }
 },
 "nbformat": 4,
 "nbformat_minor": 5
}
